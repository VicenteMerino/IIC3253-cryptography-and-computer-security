{
 "metadata": {
  "language_info": {
   "codemirror_mode": {
    "name": "ipython",
    "version": 3
   },
   "file_extension": ".py",
   "mimetype": "text/x-python",
   "name": "python",
   "nbconvert_exporter": "python",
   "pygments_lexer": "ipython3",
   "version": "3.8.5"
  },
  "orig_nbformat": 2,
  "kernelspec": {
   "name": "python38564bit8d977f2d1ea04f41b9cab7e4c73a2391",
   "display_name": "Python 3.8.5 64-bit"
  },
  "metadata": {
   "interpreter": {
    "hash": "916dbcbb3f70747c44a77c7bcd40155683ae19c65e1c03b4aa3499c5328201f1"
   }
  }
 },
 "nbformat": 4,
 "nbformat_minor": 2,
 "cells": [
  {
   "source": [
    "# Tarea 1 Pregunta 3 - Vicente Merino\n",
    "\n",
    "## Break Random OTP "
   ],
   "cell_type": "markdown",
   "metadata": {}
  },
  {
   "source": [
    "## Definición de otp_utils\n",
    "Dado que no podemos importar directamente, escribimos las funciones del módulo otp_utils en https://github.com/UC-IIC3253/2021/blob/main/src/otp/otp_utils.py"
   ],
   "cell_type": "markdown",
   "metadata": {}
  },
  {
   "cell_type": "code",
   "execution_count": null,
   "metadata": {},
   "outputs": [],
   "source": [
    "def _check_strings(*args):\n",
    "  for arg in args:\n",
    "    if not isinstance(arg, str):\n",
    "      raise AttributeError(\"Expected a string\")\n",
    "\n",
    "\n",
    "def xor(k, m):\n",
    "  _check_strings(k, m)\n",
    "   result = \"\"\n",
    "    for i in range(len(m)):\n",
    "      result += chr((ord(k[i % len(k)]) ^ ord(m[i])) % 128)\n",
    "    return result\n",
    "\n",
    "\n",
    "def as_binary_strings(string):\n",
    "    _check_strings(string)\n",
    "    return [bin(n)[2:].zfill(7) for n in as_integers(string)]\n",
    "\n",
    "\n",
    "def as_binary_string(string):\n",
    "    _check_strings(string)\n",
    "    return \"\".join(as_binary_strings(string))\n",
    "\n",
    "\n",
    "def as_integers(string):\n",
    "    _check_strings(string)\n",
    "    return [ord(c) for c in string]\n",
    "\n",
    "\n",
    "def print_as_binary(*args):\n",
    "    _check_strings(*args)\n",
    "    result = \"\"\n",
    "    for a in args:\n",
    "        result += as_binary_string(a) + \"\\n\"\n",
    "    print(result[:-1])"
   ]
  }
 ]
}