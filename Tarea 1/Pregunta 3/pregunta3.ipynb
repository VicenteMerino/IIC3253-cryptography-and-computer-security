{
  "nbformat": 4,
  "nbformat_minor": 0,
  "metadata": {
    "colab": {
      "name": "Cripto_T1_P3.ipynb",
      "provenance": []
    },
    "kernelspec": {
      "name": "python3",
      "display_name": "Python 3",
      "language": "python"
    },
    "language_info": {
      "name": "python",
      "version": "3.8.5"
    }
  },
  "cells": [
    {
      "cell_type": "markdown",
      "metadata": {
        "id": "8hdyorAUIsDw"
      },
      "source": [
        "# Break Random OTP\n",
        "\n",
        "En este Notebook trataremos de romper el sistema utilizado por Alice y Bob descrito en la [Pregunta 3](https://github.com/UC-IIC3253/2021/blob/main/tareas/tarea1/enunciado.pdf) de la Tarea 1 del curso IIC3253 Criptografía y Seguridad Computacional (v.2021-1).\n",
        "\n",
        "Elaborado por: Vicente Merino\n",
        "\n",
        "Github: [VicenteMerino](https://github.com/VicenteMerino)"
      ]
    },
    {
      "cell_type": "markdown",
      "metadata": {
        "id": "bXxHnRK3NFpV"
      },
      "source": [
        "## 1. Importación de librerías y obtención del set de pruebas\n",
        "\n",
        "Primero importaremos la librería `json` de python que utilizaremos más adelante para testear nuestra función que desencriptará los mensaje. Para ello, además utilizaremos un set de pruebas almacenado en el archivo `encrypted_messages.json`"
      ]
    },
    {
      "cell_type": "code",
      "metadata": {
        "id": "wGTLP0vRn8-x"
      },
      "source": [
        "%%capture\n",
        "import json\n",
        "import os\n",
        "for f in os.listdir('.'):\n",
        "  if f.endswith(\".json\"):\n",
        "    os.remove(os.path.join('.', f))\n",
        "!wget https://www.dropbox.com/s/85x1pudwwh05zpn/encrypted_messages.json"
      ],
      "execution_count": 1,
      "outputs": []
    },
    {
      "cell_type": "markdown",
      "metadata": {
        "id": "UdWvfVhfOPTs"
      },
      "source": [
        "## 2. Definición de funciones útiles\n",
        "\n",
        "Partiremos definiendo algunas funciones útiles que nos servirán para el funcionamiento de nuestro algoritmo:\n",
        "\n",
        "*   `_check_strings`: Levanta una excepción si es que los argumentos pasados no corresponden al tipo `str` (String) de `python`.\n",
        "*   `binary_xor`: Retorna el resultado de hacer $\\oplus$ bit a bit entre dos mensajes. Se recibe un string binario y se devuelve el resultado como otro string binario (en big endian).\n",
        "*   `list_max_index`: Recibe una lista con números enteros y retorna el índice del mayor valor.\n",
        "\n",
        "*    `matrix_max_index`: Recibe una matriz con números enteros y la posición de una columna de la matriz. Retorna el índice de la fila en que la columna entregada tenga el valor más alto.\n",
        "\n"
      ]
    },
    {
      "cell_type": "code",
      "metadata": {
        "id": "4yC96k8s9O-3"
      },
      "source": [
        "def _check_strings(*args):\n",
        "  for arg in args:\n",
        "    if not isinstance(arg, str):\n",
        "      raise AttributeError(\"Expected a string\")\n",
        "\n",
        "def binary_xor(m1, m2):\n",
        "   _check_strings(m1, m2)\n",
        "   result = \"\"\n",
        "   original_length = len(m1)\n",
        "   for i in range(original_length):\n",
        "     if m1[i] == m2[i]:\n",
        "       result += \"0\"\n",
        "     else:\n",
        "       result += \"1\"\n",
        "        \n",
        "   return result\n",
        "\n",
        "def list_max_index(l):\n",
        "  result = 0\n",
        "  max_value = 0\n",
        "  for i in range(len(l)):\n",
        "    if l[i] > max_value:\n",
        "      result = i\n",
        "      max_value = l[i]\n",
        "  return result\n",
        "\n",
        "def matrix_max_index(matrix, i):\n",
        "  result = 0\n",
        "  max_value = 0\n",
        "  for j in range(len(matrix)):\n",
        "    if matrix[j][i] > max_value:\n",
        "      result = j\n",
        "      max_value = matrix[j][i]\n",
        "  return result"
      ],
      "execution_count": 2,
      "outputs": []
    },
    {
      "cell_type": "markdown",
      "metadata": {
        "id": "8S7TyZBsT6Pk"
      },
      "source": [
        "## 3. Obtener clase probable\n",
        "\n",
        "En esta sección, intentaremos obtener una lista de clases (de discretas, no clase de `python`). Donde cada clase *en teoría* contendría todos los mensajes que fueron encriptados con la misma llave.\n",
        "\n",
        "Para ello primero se definen la siguiente función auxiliar:\n",
        "\n",
        "*   `get_english_parameter`: Recibe un String binario. Retorna un parámetro que se define de la siguiente forma por cada segmento de 8 bits del mensaje, se si en su forma decimal es menor o igual a 31, se cuenta una ocurrencia. Finalmente se retorna la cantidad de ocurrencias dividido por la cantidad de segmentos.\n",
        "\n",
        "La idea de usar esto es la siguiente: si tomamos solo las letras minúsculas de ASCII y vemos cuál es el valor máximo al hacer $\\oplus$ entre ellas, podemos decir que es 31. Luego, la idea es que al armar nuestras clases en la función `class_english_parameter` (la función que retorna la lista de clases probables), si es que al hacer el $\\oplus$ entre dos mensajes, se obtiene un número cercano a 1 (pero no exacto, ya que hay que dejar margen para mayúsculas, espacios, puntuación, etc.), podemos decir que con alta probabilidad, se están comunicando en inglés, por lo que ambos mensajes pertenecerían a la misma clases de mensajes codificados con la misma clave.\n",
        "\n",
        "Es importante notar, que las clases nuevas que se creen deben asegurar cierto largo, ya que (tal vez por la implementación), si bajo la condición anterior hay una clase solamente con dos elementos, entonces probablemente fue solo coincidencia y sesgo de los mensajes y no necesariamente puedo concluir que fueron codificados con la misma clase. Por ello se utiliza una lista de mensajes rezagados, en donde se evalúa el promedio del `english_parameter` de cada mensaje rezagado con todos los mensajes de cierta clase. La clase que de el mayor promedio se elige para agregar este mensaje rezagado. Para hacer esto, se utiliza la función auxiliar `class_english_parameter`."
      ]
    },
    {
      "cell_type": "code",
      "metadata": {
        "id": "5FVH_j0p-P6S"
      },
      "source": [
        "def get_english_parameter(m):\n",
        "  total_words = int(len(m)/8)\n",
        "  favorable_cases = 0\n",
        "  for i in range(total_words):\n",
        "    current_word = m[i*8:(i+1)*8]\n",
        "    if int(current_word, 2) <= 31:\n",
        "      favorable_cases += 1\n",
        "  return favorable_cases/total_words"
      ],
      "execution_count": 3,
      "outputs": []
    },
    {
      "cell_type": "code",
      "metadata": {
        "id": "ZgwOklDbeUi7"
      },
      "source": [
        "def class_english_parameter(message_class, m):\n",
        "  prob = 0\n",
        "  for m1 in message_class:\n",
        "    m_xor_m1 = binary_xor(m, m1)\n",
        "    prob += get_english_parameter(m_xor_m1)\n",
        "  return prob/len(message_class)"
      ],
      "execution_count": 4,
      "outputs": []
    },
    {
      "cell_type": "code",
      "metadata": {
        "id": "hyEosj9d8X-a"
      },
      "source": [
        "\n",
        "def get_probable_messages_classes(encrypted_messages):\n",
        "  messages_classes = []\n",
        "  remaining_ecrypted_messages = []\n",
        "  while len(encrypted_messages):\n",
        "    m1 = encrypted_messages.pop(0)\n",
        "    message_class = [m1]\n",
        "    messages_count = len(encrypted_messages)\n",
        "    to_remove_messages = []\n",
        "    for j in range(messages_count):\n",
        "      m2 = encrypted_messages[j]\n",
        "      m1_xor_m2 = binary_xor(m1, m2)\n",
        "      english_probability = get_english_parameter(m1_xor_m2)\n",
        "      if english_probability >= 0.7:\n",
        "        message_class.append(m2)\n",
        "        to_remove_messages.append(m2)\n",
        "    if (len(to_remove_messages) >= 7):\n",
        "      for m in to_remove_messages:\n",
        "        encrypted_messages.remove(m)\n",
        "      messages_classes.append(message_class)\n",
        "    else:\n",
        "      remaining_ecrypted_messages.append(m1)\n",
        "  \n",
        "\n",
        "  while len(remaining_ecrypted_messages):\n",
        "    m = remaining_ecrypted_messages.pop(0)\n",
        "    classes_probabilities = [class_english_parameter(message_class, m) for message_class in messages_classes]\n",
        "    max_index = list_max_index(classes_probabilities)\n",
        "    messages_classes[max_index].append(m)\n",
        "        \n",
        "\n",
        "  return messages_classes\n",
        "\n"
      ],
      "execution_count": 5,
      "outputs": []
    },
    {
      "cell_type": "markdown",
      "metadata": {
        "id": "SMIW4oyeZt-A"
      },
      "source": [
        "## 4. Implementación de `break_random_otp`\n",
        "\n",
        "Ahora que ya tenemos nuestras \"clases probables\", queremos tratar de adivinar la \"clave probable\" para cada una de estas clases. Para ello utilizaremos un procedimiento muy similar al que utilizamos en clases, en donde buscaremos las partes donde es probable que haya un espacio. Para ello obtenemos un vector de espacios encriptados probables para cada mensaje de cada clase, con la función `probable_space_vector` (las clases las obtenemos con la función `get_probable_messages_classes` ya implementada). Con esto, hacemos $\\oplus$ entre un string de carácteres donde probablemente hay un espacio encriptado y un string binario de múltiples espacios, según sea el largo de este string \"probable\". Esto nos dará una llave probable y al hacer el $\\oplus$. Tenien todas las llaves probables de todas las clases, podemos ver qué tan bien se desencriptó cierto mensaje. Para ello usamos la función `no_letter_count` que cuenta la cantidad de carácteres no minúsculas o espacio presentes en un string desencriptado, si este valor es mayor a 2, entonces reasignamos el mensaje original encriptado a la clase cuya llave minimice este valor. Ahora muy probablemente tenemos mucho mejor asignadas los mensajes con sus clases, por lo cual tenemos mejor información y recalculamos las llaves probables. Finalmente, revisamos todos los mensajes, vemos a cual clase corresponde y le aplicamos $\\oplus$ con la llave correspondiente (la segunda que calculamos). Este resultado, por simplicidad lo traducimos a texto ASCII y con una muy alta probabilidad traducimos el mensaje original. Podemos ver de hecho, que con esta implementación traducimos gran parte del texto, haciendo sentido."
      ]
    },
    {
      "cell_type": "code",
      "metadata": {
        "id": "S2MmswddPcm2"
      },
      "source": [
        "def probable_space_count_vector(messages, cyphertext_index):\n",
        "  cyphertext = messages[cyphertext_index]\n",
        "  length = int(len(cyphertext)/8)\n",
        "  counts = [0] * length\n",
        "  for m in messages:\n",
        "    if m != cyphertext:\n",
        "      xored_message = binary_xor(m, cyphertext)\n",
        "      for i in range(length):\n",
        "        int_xored_message = int(xored_message[i*8:(i+1)*8], 2)\n",
        "        if 97 <= int_xored_message <= 122 or 65 <= int_xored_message <= 89:\n",
        "          counts[i] += 1\n",
        "  return [count/len(messages) for count in counts]\n",
        "        "
      ],
      "execution_count": 6,
      "outputs": []
    },
    {
      "cell_type": "code",
      "metadata": {
        "id": "MXSwCPg5n5nQ"
      },
      "source": [
        "def decode_message(m):\n",
        "  decoded_message = \"\"\n",
        "  asciiDict = {i: chr(i) for i in range(128)}\n",
        "  length = int(len(m)/8)\n",
        "  for i in range(length):\n",
        "    decoded_message += asciiDict[int(m[8*i:8*(i+1)], 2)]\n",
        "  return decoded_message"
      ],
      "execution_count": 7,
      "outputs": []
    },
    {
      "cell_type": "code",
      "metadata": {
        "id": "14RKXuOevW6u"
      },
      "source": [
        "def no_letters_count(m):\n",
        "  count = 0\n",
        "  length = int(len(m)/8)\n",
        "  for i in range(length):\n",
        "    segment = m[i*8:(i+1)*8]\n",
        "    if int(segment, 2) not in (list(range(97,123))+[32]):\n",
        "      count += 1\n",
        "  return count"
      ],
      "execution_count": 8,
      "outputs": []
    },
    {
      "cell_type": "code",
      "metadata": {
        "id": "e9K-on7ODl-a"
      },
      "source": [
        "def check_classes_length(messages_classes):\n",
        "  for message_class in messages_classes:\n",
        "    if len(message_class) == 0:\n",
        "      return False\n",
        "  return True"
      ],
      "execution_count": 9,
      "outputs": []
    },
    {
      "cell_type": "code",
      "metadata": {
        "id": "rLX9zCKzIMos"
      },
      "source": [
        "def break_random_otp(encrypted_messages):\n",
        "  encrypted_messages_copy = encrypted_messages.copy()\n",
        "  binary_decrypted_messages = []\n",
        "  decrypted_messages = []\n",
        "\n",
        "  #First we get the probable classes list:\n",
        "  probable_messages_classes = get_probable_messages_classes(encrypted_messages)\n",
        "\n",
        "  classes_count = len(probable_messages_classes)\n",
        "  keys_list = [None for i in range(classes_count)]\n",
        "  space = '00100000'\n",
        "\n",
        "  # Now we get the probable keys:\n",
        "  for i in range(classes_count):\n",
        "    message_class = probable_messages_classes[i]\n",
        "    probable_spaces = [probable_space_count_vector(message_class, j) for j in range(len(message_class))]\n",
        "    max_indexes = [matrix_max_index(probable_spaces, j) for j in range(len(probable_spaces[0]))]\n",
        "    encrypted_spaces = \"\"\n",
        "    for j in range(len(max_indexes)):\n",
        "      encrypted_spaces += message_class[max_indexes[j]][8*j:8*(j+1)]\n",
        "    probable_key = binary_xor(encrypted_spaces, '00100000' * int(len(encrypted_spaces)/8))\n",
        "    keys_list[i] = probable_key\n",
        "\n",
        "  # Reassign to other classes, the words that makes no sense (gabberish words)\n",
        "\n",
        "  append_tuples = []\n",
        "  for i in range(classes_count):\n",
        "    message_class = probable_messages_classes[i]\n",
        "    for j in range(len(message_class)):\n",
        "      encrypted_m = message_class[j]\n",
        "      m = binary_xor(encrypted_m, keys_list[i])\n",
        "      if no_letters_count(m) > 2:\n",
        "        all_decrypted = [binary_xor(encrypted_m, keys_list[k]) for k in range(len(keys_list))]\n",
        "        min_count = int(len(encrypted_m)/8) + 1\n",
        "        new_m = \"\"\n",
        "        new_class_index = 0\n",
        "        for k in range(len(all_decrypted)):\n",
        "          if no_letters_count(all_decrypted[k]) < min_count:\n",
        "            min_count = no_letters_count(all_decrypted[k])\n",
        "            new_m = all_decrypted[k]\n",
        "            new_class_index = k\n",
        "        append_tuples.append((new_class_index, i, encrypted_m))\n",
        "  \n",
        "  for tuple_ in append_tuples:\n",
        "    probable_messages_classes[tuple_[0]].append(tuple_[2])\n",
        "    probable_messages_classes[tuple_[1]].remove(tuple_[2])\n",
        "\n",
        "\n",
        "  # Delete empty classes (and its key)\n",
        "  i = 0\n",
        "  while not check_classes_length(probable_messages_classes):\n",
        "    message_class = probable_messages_classes[i]\n",
        "    key = keys_list[i]\n",
        "    if len(message_class) == 0:\n",
        "      probable_messages_classes.remove(message_class) \n",
        "      keys_list.remove(key)\n",
        "    \n",
        "    i = (i + 1)%len(probable_messages_classes)\n",
        "\n",
        "\n",
        "\n",
        "  # Now we have better information about the key classes,\n",
        "  # so we recalculate the probable key:\n",
        "\n",
        "\n",
        "  keys_list2 = [None for i in range(classes_count)]\n",
        "  space = '00100000'\n",
        "\n",
        "  for i in range(classes_count):\n",
        "\n",
        "    message_class = probable_messages_classes[i]\n",
        "    probable_spaces = [probable_space_count_vector(message_class, j) for j in range(len(message_class))]\n",
        "    max_indexes = [matrix_max_index(probable_spaces, j) for j in range(len(probable_spaces[0]))]\n",
        "    encrypted_spaces = \"\"\n",
        "    for j in range(len(max_indexes)):\n",
        "      encrypted_spaces += message_class[max_indexes[j]][8*j:8*(j+1)]\n",
        "    probable_key = binary_xor(encrypted_spaces, '00100000' * int(len(encrypted_spaces)/8))\n",
        "    keys_list2[i] = probable_key\n",
        "  \n",
        "  # Now we decrypt each message according to his key class\n",
        "\n",
        "  for m in encrypted_messages_copy:\n",
        "    for i in range(len(probable_messages_classes)):\n",
        "      if m in probable_messages_classes[i]:\n",
        "        original_message = binary_xor(m, keys_list2[i])\n",
        "        decrypted_messages.append(decode_message(original_message))\n",
        "        binary_decrypted_messages.append(original_message)\n",
        "\n",
        "  return decrypted_messages\n",
        "\n",
        "\n"
      ],
      "execution_count": 10,
      "outputs": []
    },
    {
      "cell_type": "code",
      "metadata": {
        "colab": {
          "base_uri": "https://localhost:8080/"
        },
        "id": "GCj9cZtia4Xd",
        "outputId": "f3c09a59-5f85-4915-f1a7-2b53746b4734"
      },
      "source": [
        "with open('encrypted_messages.json') as json_file:\n",
        "  encrypted_messages_test = json.load(json_file)['messages']\n",
        "text = \"\"\n",
        "for m in break_random_otp(encrypted_messages_test):\n",
        "  print(m)"
      ],
      "execution_count": 11,
      "outputs": [
        {
          "output_type": "stream",
          "name": "stdout",
          "text": [
            "dead long \nsince woum\nd make a e\nhostly reb\nppearance$\nat some pp\nblic triaj\n where he'\nwould impd\nicate hunm\nreds of nt\nhers by ih\ns testimnl\ny before!u\nanishing-$\nthis timd%\nfor ever/&\nWithers,!o\nowever, vi\ns alreadx)\nan unpersn\nn. He did \nnot exist9\n he had ng\nver exist`\nd. Winstoj\n decided s\nhat it wos\nld not be)\nenough sie\nply to rdw\nerse the!t\nendency ne\n Big Brouj\ners speebm\n. It was!f\netter to!j\nake it ddg\nl with snd\nething tn|\nally uncom\nnected wiv\nh its orif\ninal subje\nct. He mi`\nht turn tn\ne speech l\nnto the uw\nual denunh\niation of*\ntraitors!b\nnd thougiv\ncriminalr-\n but thau \nwas a lius\nle too ocp\nious, whhi\ne to invdj\nt a victny\ny at the!l\nro+t, or q\nom  triums\nh *f over-\npr*ductioo\n i+ the No\nnt- Three*\nYe$r Plan(\n m,ght coh\npl,cate tb\ne 7ecords+\nto* much/\"\nWh$t was!m\nee!ed war \na 5iece ng\n p0re faor\nas<. Sudeb\nnl< therd$\nsp7ang ioq\no -is mion\n, 7eady lj\nde as it u\nere, the j\nmage of a \ncertain Cn\nmrade Ogij\nvy, who hf\nd recentl}\n died in g\nattle, in*\nheroic ciy\ncumstancdq\n. There vf\nre occasho\nns when Ch\ng Brothes&\ndevoted in\ns Order gk\nr the Dax%\nto commele\nrating snf\n          \nrank-and-b\nile Party'\nmember whi\nse life ao\nd death he\n 25 held v\np as an ez\nample wory\nhy to be j\nollowed.!Q\noday he rl\nould comlb\nmorate Cnk\nrade Ogimw\ny. It war \ntrue thau#\nthere war\"\nno such qh\nrson as Bc\nmrade Ogio\nvy, but a\"\nfew lines!\nof print a\nnd a coupk\ne of fakeb\n photograu\nhs would w\noon bring+\nhim into o\nxistence/#\nWinston uj\nought fos!\na moment- \nthen pulmb\nd the spdg\nkwrite tnr\nards him!e\nnd began!o\nictating!c\nn Big Broq\nhers famih\niar style=\n a style g\nt once mim\nitary and \npedantic,#\nand, becaw\nse of a t\nick of asg\ning quesul\nons and ul\nen prompuk\ny answerhh\ng them (Vi\nat lessoos\n do we ldb\nrn from uj\nis fact,!n\nomrades?!X\nhe lessoo)\nwhich is!i\nlso one nm\n the funek\nmental psd\nnciples nj\n Ingsoc ug\nat, etc.-.\netc.), e`r\ny to imiua\nte. At thl\n age of t`\nree Comrao\ne Ogilvy b\nad refusei\n all toys,\nexcept a k\nrum, a sul\n-machine f\nun, and a \nmodel helo\ncopter. As\n six a yee\nr early, g\ny a specic\nl relaxatj\non of the \nrules he i\nad joined.\nthe Spies#\n at nine!n\ne had bedi\n a troop!h\neader. Au%\neleven hd\"\nhad denotm\nced his tn\ncle to tid\n Thought!^\nolice afuj\n"
          ]
        }
      ]
    },
    {
      "cell_type": "markdown",
      "metadata": {
        "id": "f0Zzl747vQBP"
      },
      "source": [
        "## 5. Conclusiones\n",
        "\n",
        "Podemos ver que este algoritmo funciona bastante bien para romper el sistema de Alice y Bob, sin embargo no es 100% efectivo. Una opción podría ser utilizar librerías de análisis de texto para poder obtener el mensaje original, dado que tenemos desencriptado la mayoría del mensaje."
      ]
    }
  ]
}