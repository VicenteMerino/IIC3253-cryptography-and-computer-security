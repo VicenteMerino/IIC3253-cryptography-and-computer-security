{
  "nbformat": 4,
  "nbformat_minor": 0,
  "metadata": {
    "colab": {
      "name": "prgunta2.ipynb",
      "provenance": [],
      "collapsed_sections": [],
      "toc_visible": true
    },
    "kernelspec": {
      "name": "python3",
      "display_name": "Python 3",
      "language": "python"
    },
    "language_info": {
      "name": "python",
      "version": "3.8.5"
    }
  },
  "cells": [
    {
      "source": [
        "# RSA 🕵️️\n",
        "\n",
        "En este Notebook implementaremos el sistema de criptografía asimétrico RSA descrito en la [Pregunta 2](https://github.com/UC-IIC3253/2021/blob/main/tareas/tarea2/enunciado.pdf) de la Tarea 2 del curso IIC3253 Criptografía y Seguridad Computacional (v.2021-1).\n",
        "\n",
        "Elaborado por: Vicente Merino\n",
        "\n",
        "Github: [VicenteMerino](https://github.com/VicenteMerino)"
      ],
      "cell_type": "markdown",
      "metadata": {}
    },
    {
      "source": [
        "## 1. Importación de librerías 📚\n",
        "\n",
        "Primero importaremos la función `randint` de la librería `random` que utilizaremos en algunas partes del algoritmo para obtener números aleatorios en un rango dado."
      ],
      "cell_type": "markdown",
      "metadata": {}
    },
    {
      "cell_type": "code",
      "metadata": {
        "id": "rlUtfV_UB11u"
      },
      "source": [
        "from random import randint"
      ],
      "execution_count": 1,
      "outputs": []
    },
    {
      "source": [
        "## 2. Exponenciación rápida 🚀\n",
        "\n",
        "Implementamos dos algoritmos, que nos permitirán calcular de forma mucho más eficiente la exponenciación $(a^b)$ y la exponenciación con módulo $(a^b\\;\\text{mod}\\;n)$"
      ],
      "cell_type": "markdown",
      "metadata": {}
    },
    {
      "cell_type": "code",
      "metadata": {
        "id": "3lx9PRbMHHZ8"
      },
      "source": [
        "def fast_exp(a: int, b: int) -> int:\n",
        "  if a < 0 or b < 0:\n",
        "    raise Exception('Invalid parameters values')\n",
        "  if a == 0 and b == 0:\n",
        "    raise Exception('Invalid parameters value (0 to 0 exponentiation)')\n",
        "  \n",
        "  if b == 0:\n",
        "    return 1\n",
        "  elif b % 2 == 0:\n",
        "    t = fast_exp(a, b // 2)\n",
        "    return t*t\n",
        "  else:\n",
        "    t = fast_exp(a, (b-1) // 2)\n",
        "    return t*t*a\n",
        "\n",
        "def exp_mod(a: int, b: int, n: int) -> int:\n",
        "  if a < 0 or b < 0 or n <= 0:\n",
        "    raise Exception('Invalid parameters values')\n",
        "  if a == 0 and b == 0:\n",
        "    raise Exception('Invalid parameters value (0 to 0 exponentiation)')\n",
        "\n",
        "  if b == 0:\n",
        "    return 1\n",
        "  elif b % 2 == 0:\n",
        "    t = exp_mod(a, b // 2, n)\n",
        "    return (t*t) % n\n",
        "  else:\n",
        "    t = exp_mod(a, (b-1) // 2, n)\n",
        "    return (t*t*a) % n\n"
      ],
      "execution_count": 2,
      "outputs": []
    },
    {
      "source": [
        "## 3. Test de primalidad y generar primo 🙋\n",
        "\n",
        "Implementamos el test de primalidad de Miller-Rabin, que nos permite determinar si un número $n$ es primo o no con probabilidad $2^{-k}$. A partir de esto, implementamos una función que nos permite encontrar un número primo "
      ],
      "cell_type": "markdown",
      "metadata": {}
    },
    {
      "cell_type": "code",
      "metadata": {
        "id": "fXQ4Ny1K7v2N"
      },
      "source": [
        "def miller_rabin(n: int, k: int) -> bool:\n",
        "  if n < 1 or k < 1:\n",
        "    raise Exception('Invalid parameters values')\n",
        "  if n == 2 or n == 3:\n",
        "    return True\n",
        "  m = n - 1\n",
        "  l = 0\n",
        "  while m % 2 == 0:\n",
        "    l += 1\n",
        "    m = m//2\n",
        "\n",
        "  for i in range(k):\n",
        "    b = randint(2, n - 2)\n",
        "    x = exp_mod(b, m, n)\n",
        "    if x == 1 or x == n - 1:\n",
        "      continue\n",
        "    continue_bool = False\n",
        "    for j in range(l - 1):\n",
        "      x = exp_mod(x, 2, n)\n",
        "      if x == n - 1:\n",
        "        continue_bool = True\n",
        "        break\n",
        "    if continue_bool:\n",
        "      continue\n",
        "    return False\n",
        "  return True\n",
        "\n",
        "def generar_primo(l: int) -> int:\n",
        "  if l < 1:\n",
        "    raise Exception('Invalid parameter value')\n",
        "  min_value = fast_exp(10, l-1)\n",
        "  max_value = fast_exp(10, l)-1\n",
        "\n",
        "  random_number = randint(min_value, max_value)\n",
        "\n",
        "  while not miller_rabin(random_number, 100):\n",
        "    random_number = randint(min_value, max_value)\n",
        "  return random_number\n"
      ],
      "execution_count": 3,
      "outputs": []
    },
    {
      "source": [
        "## 4. Algoritmo extendido de euclides ➗\n",
        "\n",
        "Implementamos el algoritmo extendido de euclides, que nos permite encontrar el máximo común divisor entre dos números y los multiplicadores de cada uno."
      ],
      "cell_type": "markdown",
      "metadata": {}
    },
    {
      "cell_type": "code",
      "metadata": {
        "id": "Dtr_wZ4NeLgW"
      },
      "source": [
        "def alg_ext_euclides(a: int, b: int) -> (int, int, int):\n",
        "  if a < b or b < 0 or a <= 0:\n",
        "    raise Exception('Invalid parameters values')\n",
        "  def recursion(n1: int, n2: int) -> (int, int, int):\n",
        "    if n1 == 0:\n",
        "      return (n2, 0, 1)\n",
        "\n",
        "    mcd = recursion(n2 % n1, n1)\n",
        "\n",
        "    s0 = mcd[1]\n",
        "    t0 = mcd[2]\n",
        "\n",
        "    s = t0 - n2//n1 * s0\n",
        "    t = s0\n",
        "\n",
        "    return (mcd[0], s, t)\n",
        "  return recursion(a, b)"
      ],
      "execution_count": 4,
      "outputs": []
    },
    {
      "source": [
        "## 5. Función inverso modular ↕️\n",
        "\n",
        "Implementamos una función que nos permite encontrar el inverso en módulo $n$ de un número $a$."
      ],
      "cell_type": "markdown",
      "metadata": {}
    },
    {
      "cell_type": "code",
      "metadata": {
        "id": "-07IcMP9ldnS"
      },
      "source": [
        "def inverso(a: int, n: int) -> int:\n",
        "  if a < 1 or n < 2:\n",
        "    raise Exception('Invalid parameters values')\n",
        "  \n",
        "  if a < n:\n",
        "    mcd = alg_ext_euclides(n, a)\n",
        "    if mcd[0] != 1:\n",
        "      raise Exception('The numbers are not relative primes')\n",
        "    if mcd[2] >= 0:\n",
        "      return mcd[2]\n",
        "    else:\n",
        "      return mcd[2] + n\n",
        "  else:\n",
        "    mcd = alg_ext_euclides(a, n)\n",
        "    if mcd[0] != 1:\n",
        "      raise Exception('The numbers are not relative primes')\n",
        "    if mcd[1] >= 0:\n",
        "      return mcd[1]\n",
        "    else:\n",
        "      return mcd[1] + n"
      ],
      "execution_count": 5,
      "outputs": []
    },
    {
      "source": [
        "## 6. Generación de claves 🗝️️\n",
        "\n",
        "Implementamos una función para generar las claves públicas y privadas del sistema RSA y las guardamos en los archivos `public_key.txt` y `private_key.txt`."
      ],
      "cell_type": "markdown",
      "metadata": {}
    },
    {
      "cell_type": "code",
      "metadata": {
        "id": "6Mc4NfICx7dh"
      },
      "source": [
        "def generar_clave(l: int):\n",
        "  if l < 0:\n",
        "    raise Exception(\"Length of the keys must be positive\")\n",
        "  P = generar_primo(l)\n",
        "  Q = generar_primo(l)\n",
        "  while P == Q:\n",
        "    Q = generar_primo(l)\n",
        "  N = P*Q\n",
        "  Phi_N = (P - 1)*(Q - 1)\n",
        "\n",
        "  d = randint(0, Phi_N - 1)\n",
        "\n",
        "  mcd = alg_ext_euclides(Phi_N, d)\n",
        "  while mcd[0] != 1:\n",
        "    d = randint(0, Phi_N - 1)\n",
        "    mcd = alg_ext_euclides(Phi_N, d)\n",
        "\n",
        "  e = inverso(d, Phi_N)\n",
        "\n",
        "  with open(\"private_key.txt\", \"w\") as private_file:\n",
        "    private_file.write(str(d))\n",
        "    private_file.write(\"\\n\")\n",
        "    private_file.write(str(N))\n",
        "\n",
        "  with open(\"public_key.txt\", \"w\") as public_file:\n",
        "    public_file.write(str(e))\n",
        "    public_file.write(\"\\n\")\n",
        "    public_file.write(str(N))"
      ],
      "execution_count": 6,
      "outputs": []
    },
    {
      "source": [
        "## 7. Encriptación y decriptación 🐱‍💻\n",
        "\n",
        "Funciones que leen las llaves públicas y privadas en `public_key.txt` y `private_key.txt` y con ellas encriptan/decriptan un mensaje. "
      ],
      "cell_type": "markdown",
      "metadata": {}
    },
    {
      "cell_type": "code",
      "metadata": {
        "id": "0y_RgwHy_fDi"
      },
      "source": [
        "def enc(m: int) -> int:\n",
        "  with open(\"public_key.txt\", \"r\") as public_file:\n",
        "    lines = public_file.readlines()\n",
        "    e = int(lines[0])\n",
        "    N = int(lines[1])\n",
        "  return exp_mod(m, e, N)\n",
        "\n",
        "def dec(m: int) -> int:\n",
        "  with open(\"private_key.txt\", \"r\") as private_file:\n",
        "    lines = private_file.readlines()\n",
        "    d = int(lines[0])\n",
        "    N = int(lines[1])\n",
        "  return exp_mod(m, d, N)"
      ],
      "execution_count": 7,
      "outputs": []
    },
    {
      "source": [
        "## 8. Testing 🧪\n",
        "\n",
        "Probamos encriptar y desencriptar distintos mensajes aleatorios. Para ello creamos dos _test cases_, uno con mensajes con la misma llave, y otro con llaves distintas para cada mensaje."
      ],
      "cell_type": "markdown",
      "metadata": {}
    },
    {
      "cell_type": "code",
      "metadata": {
        "colab": {
          "base_uri": "https://localhost:8080/"
        },
        "id": "PSuJErrKVmoR",
        "outputId": "22cb768d-38d2-41c6-9f85-9c0adc54e360"
      },
      "source": [
        "def same_key_test_case(l):\n",
        "  generar_clave(l)\n",
        "  for _ in range(1000):\n",
        "    m = randint(0, 2**100)\n",
        "    if m != dec(enc(m)):\n",
        "      return False\n",
        "  return True\n",
        "\n",
        "\n",
        "def different_key_test_case(l):\n",
        "  for _ in range(100):\n",
        "    generar_clave(l)\n",
        "    m = randint(0,2**100)\n",
        "    if m != dec(enc(m)):\n",
        "      return False\n",
        "  return True\n",
        "\n",
        "\n",
        "print(f\"Same key test case: {same_key_test_case(100)}\")\n",
        "print(f\"Different key test case: {different_key_test_case(100)}\")"
      ],
      "execution_count": 8,
      "outputs": [
        {
          "output_type": "stream",
          "name": "stdout",
          "text": [
            "Same key test case: True\n",
            "Different key test case: True\n"
          ]
        }
      ]
    }
  ]
}